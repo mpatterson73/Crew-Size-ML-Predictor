{
 "cells": [
  {
   "cell_type": "markdown",
   "metadata": {},
   "source": [
    "# ML_Model_for_Predicting_Ships_Crew_Size\n",
    "\n",
    "#### This was a takehome quiz for a Data Scientist interview\n",
    "\n",
    "Date: 4/8/2019\n",
    "\n",
    "We build a simple model using the cruise_ship_info.csv data set for predicting a ship's crew size. This project is organized as follows: (a) data proprocessing and variable selection; (b) basic regression model; (c) hyper-parameters tuning; and (d) techniques for dimensionality reduction.\n",
    "\n",
    "cruise_ship_info.csv: dataset used for model building.\n"
   ]
  },
  {
   "cell_type": "markdown",
   "metadata": {},
   "source": [
    "### Preprocess Crew Size Data"
   ]
  },
  {
   "cell_type": "markdown",
   "metadata": {},
   "source": [
    "#### Load the raw data into a pandas dataframe"
   ]
  },
  {
   "cell_type": "code",
   "execution_count": 1,
   "metadata": {},
   "outputs": [],
   "source": [
    "import pandas as pd\n",
    "import numpy as np\n",
    "import matplotlib.pyplot as plt\n",
    "import sklearn"
   ]
  },
  {
   "cell_type": "code",
   "execution_count": 2,
   "metadata": {},
   "outputs": [],
   "source": [
    "raw_data = pd.read_csv('cruise_ship_info.csv')"
   ]
  },
  {
   "cell_type": "code",
   "execution_count": 3,
   "metadata": {},
   "outputs": [],
   "source": [
    "# set to show all columns and rows\n",
    "pd.options.display.max_columns = None\n",
    "pd.options.display.max_rows = None"
   ]
  },
  {
   "cell_type": "code",
   "execution_count": 4,
   "metadata": {},
   "outputs": [],
   "source": [
    "# create a copy to prevent corruption of the original\n",
    "df = raw_data.copy()"
   ]
  },
  {
   "cell_type": "code",
   "execution_count": 5,
   "metadata": {},
   "outputs": [
    {
     "data": {
      "text/html": [
       "<div>\n",
       "<style scoped>\n",
       "    .dataframe tbody tr th:only-of-type {\n",
       "        vertical-align: middle;\n",
       "    }\n",
       "\n",
       "    .dataframe tbody tr th {\n",
       "        vertical-align: top;\n",
       "    }\n",
       "\n",
       "    .dataframe thead th {\n",
       "        text-align: right;\n",
       "    }\n",
       "</style>\n",
       "<table border=\"1\" class=\"dataframe\">\n",
       "  <thead>\n",
       "    <tr style=\"text-align: right;\">\n",
       "      <th></th>\n",
       "      <th>Ship_name</th>\n",
       "      <th>Cruise_line</th>\n",
       "      <th>Age</th>\n",
       "      <th>Tonnage</th>\n",
       "      <th>passengers</th>\n",
       "      <th>length</th>\n",
       "      <th>cabins</th>\n",
       "      <th>passenger_density</th>\n",
       "      <th>crew</th>\n",
       "    </tr>\n",
       "  </thead>\n",
       "  <tbody>\n",
       "    <tr>\n",
       "      <th>0</th>\n",
       "      <td>Journey</td>\n",
       "      <td>Azamara</td>\n",
       "      <td>6</td>\n",
       "      <td>30.277</td>\n",
       "      <td>6.94</td>\n",
       "      <td>5.94</td>\n",
       "      <td>3.55</td>\n",
       "      <td>42.64</td>\n",
       "      <td>3.55</td>\n",
       "    </tr>\n",
       "    <tr>\n",
       "      <th>1</th>\n",
       "      <td>Quest</td>\n",
       "      <td>Azamara</td>\n",
       "      <td>6</td>\n",
       "      <td>30.277</td>\n",
       "      <td>6.94</td>\n",
       "      <td>5.94</td>\n",
       "      <td>3.55</td>\n",
       "      <td>42.64</td>\n",
       "      <td>3.55</td>\n",
       "    </tr>\n",
       "    <tr>\n",
       "      <th>2</th>\n",
       "      <td>Celebration</td>\n",
       "      <td>Carnival</td>\n",
       "      <td>26</td>\n",
       "      <td>47.262</td>\n",
       "      <td>14.86</td>\n",
       "      <td>7.22</td>\n",
       "      <td>7.43</td>\n",
       "      <td>31.80</td>\n",
       "      <td>6.70</td>\n",
       "    </tr>\n",
       "    <tr>\n",
       "      <th>3</th>\n",
       "      <td>Conquest</td>\n",
       "      <td>Carnival</td>\n",
       "      <td>11</td>\n",
       "      <td>110.000</td>\n",
       "      <td>29.74</td>\n",
       "      <td>9.53</td>\n",
       "      <td>14.88</td>\n",
       "      <td>36.99</td>\n",
       "      <td>19.10</td>\n",
       "    </tr>\n",
       "    <tr>\n",
       "      <th>4</th>\n",
       "      <td>Destiny</td>\n",
       "      <td>Carnival</td>\n",
       "      <td>17</td>\n",
       "      <td>101.353</td>\n",
       "      <td>26.42</td>\n",
       "      <td>8.92</td>\n",
       "      <td>13.21</td>\n",
       "      <td>38.36</td>\n",
       "      <td>10.00</td>\n",
       "    </tr>\n",
       "    <tr>\n",
       "      <th>5</th>\n",
       "      <td>Ecstasy</td>\n",
       "      <td>Carnival</td>\n",
       "      <td>22</td>\n",
       "      <td>70.367</td>\n",
       "      <td>20.52</td>\n",
       "      <td>8.55</td>\n",
       "      <td>10.20</td>\n",
       "      <td>34.29</td>\n",
       "      <td>9.20</td>\n",
       "    </tr>\n",
       "    <tr>\n",
       "      <th>6</th>\n",
       "      <td>Elation</td>\n",
       "      <td>Carnival</td>\n",
       "      <td>15</td>\n",
       "      <td>70.367</td>\n",
       "      <td>20.52</td>\n",
       "      <td>8.55</td>\n",
       "      <td>10.20</td>\n",
       "      <td>34.29</td>\n",
       "      <td>9.20</td>\n",
       "    </tr>\n",
       "    <tr>\n",
       "      <th>7</th>\n",
       "      <td>Fantasy</td>\n",
       "      <td>Carnival</td>\n",
       "      <td>23</td>\n",
       "      <td>70.367</td>\n",
       "      <td>20.56</td>\n",
       "      <td>8.55</td>\n",
       "      <td>10.22</td>\n",
       "      <td>34.23</td>\n",
       "      <td>9.20</td>\n",
       "    </tr>\n",
       "    <tr>\n",
       "      <th>8</th>\n",
       "      <td>Fascination</td>\n",
       "      <td>Carnival</td>\n",
       "      <td>19</td>\n",
       "      <td>70.367</td>\n",
       "      <td>20.52</td>\n",
       "      <td>8.55</td>\n",
       "      <td>10.20</td>\n",
       "      <td>34.29</td>\n",
       "      <td>9.20</td>\n",
       "    </tr>\n",
       "    <tr>\n",
       "      <th>9</th>\n",
       "      <td>Freedom</td>\n",
       "      <td>Carnival</td>\n",
       "      <td>6</td>\n",
       "      <td>110.239</td>\n",
       "      <td>37.00</td>\n",
       "      <td>9.51</td>\n",
       "      <td>14.87</td>\n",
       "      <td>29.79</td>\n",
       "      <td>11.50</td>\n",
       "    </tr>\n",
       "    <tr>\n",
       "      <th>10</th>\n",
       "      <td>Glory</td>\n",
       "      <td>Carnival</td>\n",
       "      <td>10</td>\n",
       "      <td>110.000</td>\n",
       "      <td>29.74</td>\n",
       "      <td>9.51</td>\n",
       "      <td>14.87</td>\n",
       "      <td>36.99</td>\n",
       "      <td>11.60</td>\n",
       "    </tr>\n",
       "    <tr>\n",
       "      <th>11</th>\n",
       "      <td>Holiday</td>\n",
       "      <td>Carnival</td>\n",
       "      <td>28</td>\n",
       "      <td>46.052</td>\n",
       "      <td>14.52</td>\n",
       "      <td>7.27</td>\n",
       "      <td>7.26</td>\n",
       "      <td>31.72</td>\n",
       "      <td>6.60</td>\n",
       "    </tr>\n",
       "    <tr>\n",
       "      <th>12</th>\n",
       "      <td>Imagination</td>\n",
       "      <td>Carnival</td>\n",
       "      <td>18</td>\n",
       "      <td>70.367</td>\n",
       "      <td>20.52</td>\n",
       "      <td>8.55</td>\n",
       "      <td>10.20</td>\n",
       "      <td>34.29</td>\n",
       "      <td>9.20</td>\n",
       "    </tr>\n",
       "    <tr>\n",
       "      <th>13</th>\n",
       "      <td>Inspiration</td>\n",
       "      <td>Carnival</td>\n",
       "      <td>17</td>\n",
       "      <td>70.367</td>\n",
       "      <td>20.52</td>\n",
       "      <td>8.55</td>\n",
       "      <td>10.20</td>\n",
       "      <td>34.29</td>\n",
       "      <td>9.20</td>\n",
       "    </tr>\n",
       "    <tr>\n",
       "      <th>14</th>\n",
       "      <td>Legend</td>\n",
       "      <td>Carnival</td>\n",
       "      <td>11</td>\n",
       "      <td>86.000</td>\n",
       "      <td>21.24</td>\n",
       "      <td>9.63</td>\n",
       "      <td>10.62</td>\n",
       "      <td>40.49</td>\n",
       "      <td>9.30</td>\n",
       "    </tr>\n",
       "  </tbody>\n",
       "</table>\n",
       "</div>"
      ],
      "text/plain": [
       "      Ship_name Cruise_line  Age  Tonnage  passengers  length  cabins  \\\n",
       "0       Journey     Azamara    6   30.277        6.94    5.94    3.55   \n",
       "1         Quest     Azamara    6   30.277        6.94    5.94    3.55   \n",
       "2   Celebration    Carnival   26   47.262       14.86    7.22    7.43   \n",
       "3      Conquest    Carnival   11  110.000       29.74    9.53   14.88   \n",
       "4       Destiny    Carnival   17  101.353       26.42    8.92   13.21   \n",
       "5       Ecstasy    Carnival   22   70.367       20.52    8.55   10.20   \n",
       "6       Elation    Carnival   15   70.367       20.52    8.55   10.20   \n",
       "7       Fantasy    Carnival   23   70.367       20.56    8.55   10.22   \n",
       "8   Fascination    Carnival   19   70.367       20.52    8.55   10.20   \n",
       "9       Freedom    Carnival    6  110.239       37.00    9.51   14.87   \n",
       "10        Glory    Carnival   10  110.000       29.74    9.51   14.87   \n",
       "11      Holiday    Carnival   28   46.052       14.52    7.27    7.26   \n",
       "12  Imagination    Carnival   18   70.367       20.52    8.55   10.20   \n",
       "13  Inspiration    Carnival   17   70.367       20.52    8.55   10.20   \n",
       "14       Legend    Carnival   11   86.000       21.24    9.63   10.62   \n",
       "\n",
       "    passenger_density   crew  \n",
       "0               42.64   3.55  \n",
       "1               42.64   3.55  \n",
       "2               31.80   6.70  \n",
       "3               36.99  19.10  \n",
       "4               38.36  10.00  \n",
       "5               34.29   9.20  \n",
       "6               34.29   9.20  \n",
       "7               34.23   9.20  \n",
       "8               34.29   9.20  \n",
       "9               29.79  11.50  \n",
       "10              36.99  11.60  \n",
       "11              31.72   6.60  \n",
       "12              34.29   9.20  \n",
       "13              34.29   9.20  \n",
       "14              40.49   9.30  "
      ]
     },
     "execution_count": 5,
     "metadata": {},
     "output_type": "execute_result"
    }
   ],
   "source": [
    "df.head(15)"
   ]
  },
  {
   "cell_type": "code",
   "execution_count": null,
   "metadata": {},
   "outputs": [],
   "source": []
  },
  {
   "cell_type": "markdown",
   "metadata": {},
   "source": [
    "#### Get basic info and stats on dataset."
   ]
  },
  {
   "cell_type": "code",
   "execution_count": 6,
   "metadata": {},
   "outputs": [
    {
     "data": {
      "text/plain": [
       "(158, 9)"
      ]
     },
     "execution_count": 6,
     "metadata": {},
     "output_type": "execute_result"
    }
   ],
   "source": [
    "df.shape"
   ]
  },
  {
   "cell_type": "code",
   "execution_count": 7,
   "metadata": {},
   "outputs": [
    {
     "name": "stdout",
     "output_type": "stream",
     "text": [
      "<class 'pandas.core.frame.DataFrame'>\n",
      "RangeIndex: 158 entries, 0 to 157\n",
      "Data columns (total 9 columns):\n",
      " #   Column             Non-Null Count  Dtype  \n",
      "---  ------             --------------  -----  \n",
      " 0   Ship_name          158 non-null    object \n",
      " 1   Cruise_line        158 non-null    object \n",
      " 2   Age                158 non-null    int64  \n",
      " 3   Tonnage            158 non-null    float64\n",
      " 4   passengers         158 non-null    float64\n",
      " 5   length             158 non-null    float64\n",
      " 6   cabins             158 non-null    float64\n",
      " 7   passenger_density  158 non-null    float64\n",
      " 8   crew               158 non-null    float64\n",
      "dtypes: float64(6), int64(1), object(2)\n",
      "memory usage: 11.2+ KB\n"
     ]
    }
   ],
   "source": [
    "df.info()"
   ]
  },
  {
   "cell_type": "code",
   "execution_count": 8,
   "metadata": {},
   "outputs": [
    {
     "data": {
      "text/html": [
       "<div>\n",
       "<style scoped>\n",
       "    .dataframe tbody tr th:only-of-type {\n",
       "        vertical-align: middle;\n",
       "    }\n",
       "\n",
       "    .dataframe tbody tr th {\n",
       "        vertical-align: top;\n",
       "    }\n",
       "\n",
       "    .dataframe thead th {\n",
       "        text-align: right;\n",
       "    }\n",
       "</style>\n",
       "<table border=\"1\" class=\"dataframe\">\n",
       "  <thead>\n",
       "    <tr style=\"text-align: right;\">\n",
       "      <th></th>\n",
       "      <th>Age</th>\n",
       "      <th>Tonnage</th>\n",
       "      <th>passengers</th>\n",
       "      <th>length</th>\n",
       "      <th>cabins</th>\n",
       "      <th>passenger_density</th>\n",
       "      <th>crew</th>\n",
       "    </tr>\n",
       "  </thead>\n",
       "  <tbody>\n",
       "    <tr>\n",
       "      <th>count</th>\n",
       "      <td>158.000000</td>\n",
       "      <td>158.000000</td>\n",
       "      <td>158.000000</td>\n",
       "      <td>158.000000</td>\n",
       "      <td>158.000000</td>\n",
       "      <td>158.000000</td>\n",
       "      <td>158.000000</td>\n",
       "    </tr>\n",
       "    <tr>\n",
       "      <th>mean</th>\n",
       "      <td>15.689873</td>\n",
       "      <td>71.284671</td>\n",
       "      <td>18.457405</td>\n",
       "      <td>8.130633</td>\n",
       "      <td>8.830000</td>\n",
       "      <td>39.900949</td>\n",
       "      <td>7.794177</td>\n",
       "    </tr>\n",
       "    <tr>\n",
       "      <th>std</th>\n",
       "      <td>7.615691</td>\n",
       "      <td>37.229540</td>\n",
       "      <td>9.677095</td>\n",
       "      <td>1.793474</td>\n",
       "      <td>4.471417</td>\n",
       "      <td>8.639217</td>\n",
       "      <td>3.503487</td>\n",
       "    </tr>\n",
       "    <tr>\n",
       "      <th>min</th>\n",
       "      <td>4.000000</td>\n",
       "      <td>2.329000</td>\n",
       "      <td>0.660000</td>\n",
       "      <td>2.790000</td>\n",
       "      <td>0.330000</td>\n",
       "      <td>17.700000</td>\n",
       "      <td>0.590000</td>\n",
       "    </tr>\n",
       "    <tr>\n",
       "      <th>25%</th>\n",
       "      <td>10.000000</td>\n",
       "      <td>46.013000</td>\n",
       "      <td>12.535000</td>\n",
       "      <td>7.100000</td>\n",
       "      <td>6.132500</td>\n",
       "      <td>34.570000</td>\n",
       "      <td>5.480000</td>\n",
       "    </tr>\n",
       "    <tr>\n",
       "      <th>50%</th>\n",
       "      <td>14.000000</td>\n",
       "      <td>71.899000</td>\n",
       "      <td>19.500000</td>\n",
       "      <td>8.555000</td>\n",
       "      <td>9.570000</td>\n",
       "      <td>39.085000</td>\n",
       "      <td>8.150000</td>\n",
       "    </tr>\n",
       "    <tr>\n",
       "      <th>75%</th>\n",
       "      <td>20.000000</td>\n",
       "      <td>90.772500</td>\n",
       "      <td>24.845000</td>\n",
       "      <td>9.510000</td>\n",
       "      <td>10.885000</td>\n",
       "      <td>44.185000</td>\n",
       "      <td>9.990000</td>\n",
       "    </tr>\n",
       "    <tr>\n",
       "      <th>max</th>\n",
       "      <td>48.000000</td>\n",
       "      <td>220.000000</td>\n",
       "      <td>54.000000</td>\n",
       "      <td>11.820000</td>\n",
       "      <td>27.000000</td>\n",
       "      <td>71.430000</td>\n",
       "      <td>21.000000</td>\n",
       "    </tr>\n",
       "  </tbody>\n",
       "</table>\n",
       "</div>"
      ],
      "text/plain": [
       "              Age     Tonnage  passengers      length      cabins  \\\n",
       "count  158.000000  158.000000  158.000000  158.000000  158.000000   \n",
       "mean    15.689873   71.284671   18.457405    8.130633    8.830000   \n",
       "std      7.615691   37.229540    9.677095    1.793474    4.471417   \n",
       "min      4.000000    2.329000    0.660000    2.790000    0.330000   \n",
       "25%     10.000000   46.013000   12.535000    7.100000    6.132500   \n",
       "50%     14.000000   71.899000   19.500000    8.555000    9.570000   \n",
       "75%     20.000000   90.772500   24.845000    9.510000   10.885000   \n",
       "max     48.000000  220.000000   54.000000   11.820000   27.000000   \n",
       "\n",
       "       passenger_density        crew  \n",
       "count         158.000000  158.000000  \n",
       "mean           39.900949    7.794177  \n",
       "std             8.639217    3.503487  \n",
       "min            17.700000    0.590000  \n",
       "25%            34.570000    5.480000  \n",
       "50%            39.085000    8.150000  \n",
       "75%            44.185000    9.990000  \n",
       "max            71.430000   21.000000  "
      ]
     },
     "execution_count": 8,
     "metadata": {},
     "output_type": "execute_result"
    }
   ],
   "source": [
    "df.describe()"
   ]
  },
  {
   "cell_type": "code",
   "execution_count": 9,
   "metadata": {},
   "outputs": [],
   "source": [
    "%matplotlib inline"
   ]
  },
  {
   "cell_type": "code",
   "execution_count": 10,
   "metadata": {},
   "outputs": [
    {
     "data": {
      "image/png": "[encoded data removed]",
      "text/plain": [
       "<Figure size 1080x720 with 9 Axes>"
      ]
     },
     "metadata": {
      "needs_background": "light"
     },
     "output_type": "display_data"
    }
   ],
   "source": [
    "# Distributions\n",
    "df.hist(bins=30, figsize=(15,10))\n",
    "plt.show()"
   ]
  },
  {
   "cell_type": "code",
   "execution_count": 11,
   "metadata": {},
   "outputs": [
    {
     "data": {
      "text/plain": [
       "Age                 -0.530657\n",
       "Tonnage              0.927569\n",
       "passengers           0.915234\n",
       "length               0.895857\n",
       "cabins               0.950823\n",
       "passenger_density   -0.155509\n",
       "crew                 1.000000\n",
       "Name: crew, dtype: float64"
      ]
     },
     "execution_count": 11,
     "metadata": {},
     "output_type": "execute_result"
    }
   ],
   "source": [
    "df[df.columns[:]].corr()['crew'][:]"
   ]
  },
  {
   "cell_type": "markdown",
   "metadata": {},
   "source": [
    "#### Initial Observations\n",
    "1. Identical ships with different names exist; they appear to have the same crew size. \n",
    "2. Intuitivley speaking, cuise line doesn't affect crew size the same way the as \n",
    "   measurement features do.  \n",
    "3. Looking at rows 0,1,5,6,7 shows age has little no effect on similar or identical boats.\n",
    "4. Age and pass_density have poor correlation cofficients.\n",
    "5. The feature variable ranges are not very similar and the scaling is not uniform. Sklearn should handle scaling outomatically."
   ]
  },
  {
   "cell_type": "markdown",
   "metadata": {},
   "source": [
    "#### Feature Selection/Drop Columns\n",
    "1. Drop 'Ship_name' column. _observation 1, but needs no explanation_\n",
    "2. Drop 'Cruise_line' column. _observation 2_\n",
    "3. Drop 'Age' column. _observation 3 & 4_\n",
    "4. Drop 'passenger_density' column _observation 4_"
   ]
  },
  {
   "cell_type": "code",
   "execution_count": 12,
   "metadata": {},
   "outputs": [],
   "source": [
    "df.drop(columns=['Ship_name', 'Cruise_line', 'Age', 'passenger_density'], inplace=True)"
   ]
  },
  {
   "cell_type": "code",
   "execution_count": 13,
   "metadata": {},
   "outputs": [
    {
     "data": {
      "text/html": [
       "<div>\n",
       "<style scoped>\n",
       "    .dataframe tbody tr th:only-of-type {\n",
       "        vertical-align: middle;\n",
       "    }\n",
       "\n",
       "    .dataframe tbody tr th {\n",
       "        vertical-align: top;\n",
       "    }\n",
       "\n",
       "    .dataframe thead th {\n",
       "        text-align: right;\n",
       "    }\n",
       "</style>\n",
       "<table border=\"1\" class=\"dataframe\">\n",
       "  <thead>\n",
       "    <tr style=\"text-align: right;\">\n",
       "      <th></th>\n",
       "      <th>Tonnage</th>\n",
       "      <th>passengers</th>\n",
       "      <th>length</th>\n",
       "      <th>cabins</th>\n",
       "      <th>crew</th>\n",
       "    </tr>\n",
       "  </thead>\n",
       "  <tbody>\n",
       "    <tr>\n",
       "      <th>0</th>\n",
       "      <td>30.277</td>\n",
       "      <td>6.94</td>\n",
       "      <td>5.94</td>\n",
       "      <td>3.55</td>\n",
       "      <td>3.55</td>\n",
       "    </tr>\n",
       "    <tr>\n",
       "      <th>1</th>\n",
       "      <td>30.277</td>\n",
       "      <td>6.94</td>\n",
       "      <td>5.94</td>\n",
       "      <td>3.55</td>\n",
       "      <td>3.55</td>\n",
       "    </tr>\n",
       "    <tr>\n",
       "      <th>2</th>\n",
       "      <td>47.262</td>\n",
       "      <td>14.86</td>\n",
       "      <td>7.22</td>\n",
       "      <td>7.43</td>\n",
       "      <td>6.70</td>\n",
       "    </tr>\n",
       "    <tr>\n",
       "      <th>3</th>\n",
       "      <td>110.000</td>\n",
       "      <td>29.74</td>\n",
       "      <td>9.53</td>\n",
       "      <td>14.88</td>\n",
       "      <td>19.10</td>\n",
       "    </tr>\n",
       "    <tr>\n",
       "      <th>4</th>\n",
       "      <td>101.353</td>\n",
       "      <td>26.42</td>\n",
       "      <td>8.92</td>\n",
       "      <td>13.21</td>\n",
       "      <td>10.00</td>\n",
       "    </tr>\n",
       "  </tbody>\n",
       "</table>\n",
       "</div>"
      ],
      "text/plain": [
       "   Tonnage  passengers  length  cabins   crew\n",
       "0   30.277        6.94    5.94    3.55   3.55\n",
       "1   30.277        6.94    5.94    3.55   3.55\n",
       "2   47.262       14.86    7.22    7.43   6.70\n",
       "3  110.000       29.74    9.53   14.88  19.10\n",
       "4  101.353       26.42    8.92   13.21  10.00"
      ]
     },
     "execution_count": 13,
     "metadata": {},
     "output_type": "execute_result"
    }
   ],
   "source": [
    "df.head()"
   ]
  },
  {
   "cell_type": "markdown",
   "metadata": {},
   "source": [
    "NOTE: Only going to use numerical value features. No Need to label encode."
   ]
  },
  {
   "cell_type": "markdown",
   "metadata": {},
   "source": [
    "make Tonnage lowercase for uniformity"
   ]
  },
  {
   "cell_type": "code",
   "execution_count": 14,
   "metadata": {},
   "outputs": [],
   "source": [
    "df = df.rename(columns={'Tonnage': 'tonnage'})\n",
    "df.reset_index(drop=True, inplace=True)"
   ]
  },
  {
   "cell_type": "code",
   "execution_count": 15,
   "metadata": {},
   "outputs": [
    {
     "data": {
      "text/html": [
       "<div>\n",
       "<style scoped>\n",
       "    .dataframe tbody tr th:only-of-type {\n",
       "        vertical-align: middle;\n",
       "    }\n",
       "\n",
       "    .dataframe tbody tr th {\n",
       "        vertical-align: top;\n",
       "    }\n",
       "\n",
       "    .dataframe thead th {\n",
       "        text-align: right;\n",
       "    }\n",
       "</style>\n",
       "<table border=\"1\" class=\"dataframe\">\n",
       "  <thead>\n",
       "    <tr style=\"text-align: right;\">\n",
       "      <th></th>\n",
       "      <th>tonnage</th>\n",
       "      <th>passengers</th>\n",
       "      <th>length</th>\n",
       "      <th>cabins</th>\n",
       "      <th>crew</th>\n",
       "    </tr>\n",
       "  </thead>\n",
       "  <tbody>\n",
       "    <tr>\n",
       "      <th>0</th>\n",
       "      <td>30.277</td>\n",
       "      <td>6.94</td>\n",
       "      <td>5.94</td>\n",
       "      <td>3.55</td>\n",
       "      <td>3.55</td>\n",
       "    </tr>\n",
       "    <tr>\n",
       "      <th>1</th>\n",
       "      <td>30.277</td>\n",
       "      <td>6.94</td>\n",
       "      <td>5.94</td>\n",
       "      <td>3.55</td>\n",
       "      <td>3.55</td>\n",
       "    </tr>\n",
       "    <tr>\n",
       "      <th>2</th>\n",
       "      <td>47.262</td>\n",
       "      <td>14.86</td>\n",
       "      <td>7.22</td>\n",
       "      <td>7.43</td>\n",
       "      <td>6.70</td>\n",
       "    </tr>\n",
       "    <tr>\n",
       "      <th>3</th>\n",
       "      <td>110.000</td>\n",
       "      <td>29.74</td>\n",
       "      <td>9.53</td>\n",
       "      <td>14.88</td>\n",
       "      <td>19.10</td>\n",
       "    </tr>\n",
       "    <tr>\n",
       "      <th>4</th>\n",
       "      <td>101.353</td>\n",
       "      <td>26.42</td>\n",
       "      <td>8.92</td>\n",
       "      <td>13.21</td>\n",
       "      <td>10.00</td>\n",
       "    </tr>\n",
       "  </tbody>\n",
       "</table>\n",
       "</div>"
      ],
      "text/plain": [
       "   tonnage  passengers  length  cabins   crew\n",
       "0   30.277        6.94    5.94    3.55   3.55\n",
       "1   30.277        6.94    5.94    3.55   3.55\n",
       "2   47.262       14.86    7.22    7.43   6.70\n",
       "3  110.000       29.74    9.53   14.88  19.10\n",
       "4  101.353       26.42    8.92   13.21  10.00"
      ]
     },
     "execution_count": 15,
     "metadata": {},
     "output_type": "execute_result"
    }
   ],
   "source": [
    "df.head()"
   ]
  },
  {
   "cell_type": "markdown",
   "metadata": {},
   "source": [
    "#### clean dataframe checkpoint - save to csv"
   ]
  },
  {
   "cell_type": "code",
   "execution_count": 16,
   "metadata": {},
   "outputs": [],
   "source": [
    "clean_df = df.copy()"
   ]
  },
  {
   "cell_type": "code",
   "execution_count": 17,
   "metadata": {},
   "outputs": [
    {
     "data": {
      "text/html": [
       "<div>\n",
       "<style scoped>\n",
       "    .dataframe tbody tr th:only-of-type {\n",
       "        vertical-align: middle;\n",
       "    }\n",
       "\n",
       "    .dataframe tbody tr th {\n",
       "        vertical-align: top;\n",
       "    }\n",
       "\n",
       "    .dataframe thead th {\n",
       "        text-align: right;\n",
       "    }\n",
       "</style>\n",
       "<table border=\"1\" class=\"dataframe\">\n",
       "  <thead>\n",
       "    <tr style=\"text-align: right;\">\n",
       "      <th></th>\n",
       "      <th>tonnage</th>\n",
       "      <th>passengers</th>\n",
       "      <th>length</th>\n",
       "      <th>cabins</th>\n",
       "      <th>crew</th>\n",
       "    </tr>\n",
       "  </thead>\n",
       "  <tbody>\n",
       "    <tr>\n",
       "      <th>0</th>\n",
       "      <td>30.277</td>\n",
       "      <td>6.94</td>\n",
       "      <td>5.94</td>\n",
       "      <td>3.55</td>\n",
       "      <td>3.55</td>\n",
       "    </tr>\n",
       "    <tr>\n",
       "      <th>1</th>\n",
       "      <td>30.277</td>\n",
       "      <td>6.94</td>\n",
       "      <td>5.94</td>\n",
       "      <td>3.55</td>\n",
       "      <td>3.55</td>\n",
       "    </tr>\n",
       "    <tr>\n",
       "      <th>2</th>\n",
       "      <td>47.262</td>\n",
       "      <td>14.86</td>\n",
       "      <td>7.22</td>\n",
       "      <td>7.43</td>\n",
       "      <td>6.70</td>\n",
       "    </tr>\n",
       "    <tr>\n",
       "      <th>3</th>\n",
       "      <td>110.000</td>\n",
       "      <td>29.74</td>\n",
       "      <td>9.53</td>\n",
       "      <td>14.88</td>\n",
       "      <td>19.10</td>\n",
       "    </tr>\n",
       "    <tr>\n",
       "      <th>4</th>\n",
       "      <td>101.353</td>\n",
       "      <td>26.42</td>\n",
       "      <td>8.92</td>\n",
       "      <td>13.21</td>\n",
       "      <td>10.00</td>\n",
       "    </tr>\n",
       "  </tbody>\n",
       "</table>\n",
       "</div>"
      ],
      "text/plain": [
       "   tonnage  passengers  length  cabins   crew\n",
       "0   30.277        6.94    5.94    3.55   3.55\n",
       "1   30.277        6.94    5.94    3.55   3.55\n",
       "2   47.262       14.86    7.22    7.43   6.70\n",
       "3  110.000       29.74    9.53   14.88  19.10\n",
       "4  101.353       26.42    8.92   13.21  10.00"
      ]
     },
     "execution_count": 17,
     "metadata": {},
     "output_type": "execute_result"
    }
   ],
   "source": [
    "clean_df.head()"
   ]
  },
  {
   "cell_type": "code",
   "execution_count": 18,
   "metadata": {},
   "outputs": [],
   "source": [
    "clean_df.to_csv('clean_df.csv')"
   ]
  },
  {
   "cell_type": "markdown",
   "metadata": {},
   "source": [
    "#### Get features matrix (X) and target array (y)"
   ]
  },
  {
   "cell_type": "code",
   "execution_count": 19,
   "metadata": {},
   "outputs": [],
   "source": [
    "y = np.array(clean_df['crew'])"
   ]
  },
  {
   "cell_type": "code",
   "execution_count": 20,
   "metadata": {},
   "outputs": [
    {
     "data": {
      "text/plain": [
       "array([ 3.55,  3.55,  6.7 , 19.1 , 10.  ,  9.2 ,  9.2 ,  9.2 ,  9.2 ,\n",
       "       11.5 , 11.6 ,  6.6 ,  9.2 ,  9.2 ,  9.3 , 11.6 , 10.3 ,  9.2 ,\n",
       "        9.3 ,  9.2 , 10.29, 10.  , 11.6 , 11.5 ,  8.58,  9.99,  9.09,\n",
       "        9.99,  9.09,  9.99,  6.7 ,  9.99,  0.6 ,  6.7 ,  4.  ,  9.2 ,\n",
       "        6.17,  6.36, 10.68, 10.68,  3.85,  9.2 ,  6.  , 10.9 ,  7.66,\n",
       "        6.36,  5.45,  9.21, 12.53,  9.  ,  9.45,  9.45,  6.  ,  8.  ,\n",
       "        5.57,  5.3 ,  8.42,  4.6 ,  6.44,  5.88,  5.88,  5.88,  5.61,\n",
       "        6.12,  5.31,  8.  ,  7.  , 13.13,  7.  ,  5.35,  9.87,  7.4 ,\n",
       "        2.97,  7.6 ,  4.7 , 11.  ,  6.14, 11.09, 11.  ,  4.38,  8.  ,\n",
       "       10.  ,  6.3 , 13.  ,  3.8 ,  9.59,  6.14,  4.  ,  4.  ,  4.  ,\n",
       "        3.5 ,  8.69,  5.2 ,  8.5 ,  9.  ,  7.94, 12.2 , 11.  ,  9.  ,\n",
       "       12.  ,  9.  , 12.38, 12.  , 11.  , 11.1 ,  9.  ,  3.73,  6.96,\n",
       "        5.2 , 12.38,  9.  , 12.  ,  9.  ,  3.73,  1.46,  4.45,  3.24,\n",
       "        2.11,  4.47, 11.85,  8.48,  6.71,  7.6 , 11.76, 13.6 ,  7.6 ,\n",
       "       13.6 ,  8.69,  7.2 , 13.6 ,  8.22, 11.85,  8.22, 11.85, 21.  ,\n",
       "        8.68,  7.65,  8.58,  8.08,  7.2 ,  6.6 , 11.76,  1.6 ,  1.6 ,\n",
       "        1.6 ,  2.1 ,  2.95,  2.87,  1.97,  0.59,  4.7 ,  6.8 ,  7.5 ,\n",
       "        0.59, 12.  ,  0.88,  0.88,  1.8 ])"
      ]
     },
     "execution_count": 20,
     "metadata": {},
     "output_type": "execute_result"
    }
   ],
   "source": [
    "y"
   ]
  },
  {
   "cell_type": "code",
   "execution_count": 21,
   "metadata": {},
   "outputs": [],
   "source": [
    "X = clean_df.iloc[:, :-1 ]"
   ]
  },
  {
   "cell_type": "code",
   "execution_count": 22,
   "metadata": {},
   "outputs": [
    {
     "data": {
      "text/html": [
       "<div>\n",
       "<style scoped>\n",
       "    .dataframe tbody tr th:only-of-type {\n",
       "        vertical-align: middle;\n",
       "    }\n",
       "\n",
       "    .dataframe tbody tr th {\n",
       "        vertical-align: top;\n",
       "    }\n",
       "\n",
       "    .dataframe thead th {\n",
       "        text-align: right;\n",
       "    }\n",
       "</style>\n",
       "<table border=\"1\" class=\"dataframe\">\n",
       "  <thead>\n",
       "    <tr style=\"text-align: right;\">\n",
       "      <th></th>\n",
       "      <th>tonnage</th>\n",
       "      <th>passengers</th>\n",
       "      <th>length</th>\n",
       "      <th>cabins</th>\n",
       "    </tr>\n",
       "  </thead>\n",
       "  <tbody>\n",
       "    <tr>\n",
       "      <th>0</th>\n",
       "      <td>30.277</td>\n",
       "      <td>6.94</td>\n",
       "      <td>5.94</td>\n",
       "      <td>3.55</td>\n",
       "    </tr>\n",
       "    <tr>\n",
       "      <th>1</th>\n",
       "      <td>30.277</td>\n",
       "      <td>6.94</td>\n",
       "      <td>5.94</td>\n",
       "      <td>3.55</td>\n",
       "    </tr>\n",
       "    <tr>\n",
       "      <th>2</th>\n",
       "      <td>47.262</td>\n",
       "      <td>14.86</td>\n",
       "      <td>7.22</td>\n",
       "      <td>7.43</td>\n",
       "    </tr>\n",
       "    <tr>\n",
       "      <th>3</th>\n",
       "      <td>110.000</td>\n",
       "      <td>29.74</td>\n",
       "      <td>9.53</td>\n",
       "      <td>14.88</td>\n",
       "    </tr>\n",
       "    <tr>\n",
       "      <th>4</th>\n",
       "      <td>101.353</td>\n",
       "      <td>26.42</td>\n",
       "      <td>8.92</td>\n",
       "      <td>13.21</td>\n",
       "    </tr>\n",
       "  </tbody>\n",
       "</table>\n",
       "</div>"
      ],
      "text/plain": [
       "   tonnage  passengers  length  cabins\n",
       "0   30.277        6.94    5.94    3.55\n",
       "1   30.277        6.94    5.94    3.55\n",
       "2   47.262       14.86    7.22    7.43\n",
       "3  110.000       29.74    9.53   14.88\n",
       "4  101.353       26.42    8.92   13.21"
      ]
     },
     "execution_count": 22,
     "metadata": {},
     "output_type": "execute_result"
    }
   ],
   "source": [
    "X.head()"
   ]
  },
  {
   "cell_type": "markdown",
   "metadata": {},
   "source": [
    "#### get the training and testing sets _use 60%/40%_"
   ]
  },
  {
   "cell_type": "code",
   "execution_count": 23,
   "metadata": {},
   "outputs": [],
   "source": [
    "from sklearn.model_selection import train_test_split"
   ]
  },
  {
   "cell_type": "code",
   "execution_count": 24,
   "metadata": {},
   "outputs": [],
   "source": [
    "X_train, X_test, y_train, y_test = train_test_split(X, y, train_size=0.6, random_state=0)"
   ]
  },
  {
   "cell_type": "code",
   "execution_count": 25,
   "metadata": {},
   "outputs": [
    {
     "name": "stdout",
     "output_type": "stream",
     "text": [
      "(94, 4) (94,)\n",
      "(64, 4) (64,)\n"
     ]
    }
   ],
   "source": [
    "print(X_train.shape, y_train.shape)\n",
    "print(X_test.shape, y_test.shape)"
   ]
  },
  {
   "cell_type": "markdown",
   "metadata": {},
   "source": [
    "### Build the linear regression model."
   ]
  },
  {
   "cell_type": "code",
   "execution_count": 26,
   "metadata": {},
   "outputs": [],
   "source": [
    "from sklearn.linear_model import LinearRegression"
   ]
  },
  {
   "cell_type": "code",
   "execution_count": 27,
   "metadata": {},
   "outputs": [],
   "source": [
    "regr = LinearRegression()"
   ]
  },
  {
   "cell_type": "code",
   "execution_count": 28,
   "metadata": {},
   "outputs": [
    {
     "data": {
      "text/plain": [
       "LinearRegression(copy_X=True, fit_intercept=True, n_jobs=None, normalize=False)"
      ]
     },
     "execution_count": 28,
     "metadata": {},
     "output_type": "execute_result"
    }
   ],
   "source": [
    "regr.fit(X_train, y_train)"
   ]
  },
  {
   "cell_type": "code",
   "execution_count": 29,
   "metadata": {},
   "outputs": [
    {
     "data": {
      "text/plain": [
       "0.920282609613996"
      ]
     },
     "execution_count": 29,
     "metadata": {},
     "output_type": "execute_result"
    }
   ],
   "source": [
    "regr.score(X_train, y_train)"
   ]
  },
  {
   "cell_type": "markdown",
   "metadata": {},
   "source": [
    "### Evaluate the model\n",
    "#### Compare predictions"
   ]
  },
  {
   "cell_type": "code",
   "execution_count": 30,
   "metadata": {},
   "outputs": [],
   "source": [
    "y_train_pred = regr.predict(X_train)\n",
    "y_test_pred = regr.predict(X_test)"
   ]
  },
  {
   "cell_type": "code",
   "execution_count": 31,
   "metadata": {},
   "outputs": [
    {
     "data": {
      "text/plain": [
       "array([[ 3.70174845,  4.        ],\n",
       "       [13.14974084, 11.85      ],\n",
       "       [15.15469989, 13.6       ],\n",
       "       [ 8.65046647,  9.45      ],\n",
       "       [ 8.06481945,  7.94      ],\n",
       "       [ 7.20769201,  7.6       ],\n",
       "       [ 6.81722641,  5.31      ],\n",
       "       [ 9.18852214,  9.        ],\n",
       "       [11.41064465, 12.        ],\n",
       "       [ 4.70400692,  5.35      ],\n",
       "       [ 9.59744957,  9.        ],\n",
       "       [11.2869091 , 12.53      ],\n",
       "       [ 8.66318114,  9.2       ],\n",
       "       [ 8.76970814,  7.6       ],\n",
       "       [ 3.71048335,  3.73      ],\n",
       "       [ 9.58866502, 10.29      ],\n",
       "       [12.02235579, 11.6       ],\n",
       "       [ 9.97604576, 11.        ],\n",
       "       [ 6.6321777 ,  6.        ],\n",
       "       [ 7.23043859,  6.14      ],\n",
       "       [12.03769245, 19.1       ],\n",
       "       [ 2.61376103,  1.8       ],\n",
       "       [ 1.59948484,  1.6       ],\n",
       "       [ 8.66318114,  9.2       ],\n",
       "       [ 7.08126891,  7.        ],\n",
       "       [13.14974084, 11.76      ],\n",
       "       [ 3.7125439 ,  3.8       ],\n",
       "       [ 7.40303204,  6.96      ],\n",
       "       [ 8.66318114,  9.2       ],\n",
       "       [ 9.00302063,  8.58      ],\n",
       "       [ 9.58766574,  9.3       ],\n",
       "       [ 1.33967228,  0.88      ],\n",
       "       [ 9.09121431,  8.69      ],\n",
       "       [ 9.00302063,  8.68      ],\n",
       "       [ 5.4914525 ,  5.45      ],\n",
       "       [ 6.33394137,  6.6       ],\n",
       "       [13.88062147, 13.6       ],\n",
       "       [ 4.47331271,  4.6       ],\n",
       "       [ 9.54473564,  9.2       ],\n",
       "       [ 8.86614692,  8.        ],\n",
       "       [ 3.7876453 ,  3.55      ],\n",
       "       [ 8.14831198,  7.2       ],\n",
       "       [ 2.9170547 ,  2.95      ],\n",
       "       [ 6.2376009 ,  6.        ],\n",
       "       [ 9.34143143,  9.        ],\n",
       "       [10.84400577, 10.        ],\n",
       "       [ 8.31524536,  7.65      ],\n",
       "       [ 8.66318114,  9.2       ],\n",
       "       [11.10930055, 11.1       ],\n",
       "       [11.06046178, 10.68      ],\n",
       "       [ 8.66318114,  9.2       ],\n",
       "       [ 9.20494647,  8.        ],\n",
       "       [ 6.27047316,  6.8       ],\n",
       "       [ 3.02294839,  4.47      ],\n",
       "       [ 3.7876453 ,  3.55      ],\n",
       "       [ 4.09169382,  4.        ],\n",
       "       [ 8.43991908,  9.09      ],\n",
       "       [ 5.44941172,  5.3       ],\n",
       "       [ 1.22869931,  1.46      ],\n",
       "       [ 9.94749642, 11.        ],\n",
       "       [ 9.52612343,  9.2       ],\n",
       "       [11.12690892, 11.5       ],\n",
       "       [ 3.16294675,  3.24      ],\n",
       "       [ 4.73293674,  4.7       ],\n",
       "       [ 9.15314619,  9.99      ],\n",
       "       [ 9.00633533,  8.22      ],\n",
       "       [ 9.34452136,  8.69      ],\n",
       "       [ 8.52737839,  8.08      ],\n",
       "       [ 0.62119955,  0.6       ],\n",
       "       [ 9.15314619,  9.99      ],\n",
       "       [12.4908007 , 12.        ],\n",
       "       [ 6.30866888,  6.3       ],\n",
       "       [ 4.63200371,  4.38      ],\n",
       "       [ 4.58173181,  4.45      ],\n",
       "       [ 0.52493154,  0.59      ],\n",
       "       [ 3.16175287,  2.97      ],\n",
       "       [10.37118683, 11.09      ],\n",
       "       [ 9.15314619,  9.99      ],\n",
       "       [ 9.38106136, 10.        ],\n",
       "       [ 2.21864498,  1.97      ],\n",
       "       [ 3.54920205,  4.7       ],\n",
       "       [11.06046178, 10.68      ],\n",
       "       [ 6.46785431,  6.44      ],\n",
       "       [ 8.31524536,  6.6       ],\n",
       "       [ 3.70174845,  4.        ],\n",
       "       [10.66271489,  9.87      ],\n",
       "       [ 3.70174845,  4.        ],\n",
       "       [ 6.09684151,  6.17      ],\n",
       "       [10.67674887, 10.        ],\n",
       "       [10.93782344, 11.5       ],\n",
       "       [10.87340577, 11.        ],\n",
       "       [12.69393443, 13.13      ],\n",
       "       [ 2.31765613,  2.11      ],\n",
       "       [ 8.91971721,  9.21      ]])"
      ]
     },
     "execution_count": 31,
     "metadata": {},
     "output_type": "execute_result"
    }
   ],
   "source": [
    "np.column_stack((y_train_pred, y_train))"
   ]
  },
  {
   "cell_type": "code",
   "execution_count": 32,
   "metadata": {},
   "outputs": [
    {
     "data": {
      "text/plain": [
       "array([[ 8.67270347,  9.2       ],\n",
       "       [ 8.40360192,  7.66      ],\n",
       "       [ 3.70748313,  3.73      ],\n",
       "       [ 9.00302063,  8.48      ],\n",
       "       [ 6.85163948,  6.12      ],\n",
       "       [ 8.76970814,  7.6       ],\n",
       "       [ 5.97143054,  6.71      ],\n",
       "       [ 7.7498044 ,  7.2       ],\n",
       "       [11.36526282, 12.38      ],\n",
       "       [ 5.30599082,  5.2       ],\n",
       "       [ 7.8138539 ,  8.58      ],\n",
       "       [13.14974084, 11.76      ],\n",
       "       [ 8.4279182 ,  9.09      ],\n",
       "       [ 6.03968736,  5.88      ],\n",
       "       [ 8.71133021,  8.        ],\n",
       "       [11.24618097, 11.        ],\n",
       "       [13.92986078, 13.6       ],\n",
       "       [ 9.34143143,  9.        ],\n",
       "       [ 1.59948484,  1.6       ],\n",
       "       [ 8.83497172,  8.42      ],\n",
       "       [ 6.18220579,  6.36      ],\n",
       "       [ 6.01213193,  6.7       ],\n",
       "       [ 6.03968736,  5.88      ],\n",
       "       [ 8.66318114,  9.2       ],\n",
       "       [ 3.91088736,  3.85      ],\n",
       "       [ 7.00686708,  6.36      ],\n",
       "       [11.36526282, 12.38      ],\n",
       "       [ 8.66318114,  9.2       ],\n",
       "       [ 1.59948484,  1.6       ],\n",
       "       [ 5.80387939,  5.2       ],\n",
       "       [ 8.64403533,  9.45      ],\n",
       "       [ 6.0349262 ,  5.57      ],\n",
       "       [ 9.6352333 , 10.3       ],\n",
       "       [ 8.99081257,  8.22      ],\n",
       "       [20.76556069, 21.        ],\n",
       "       [12.02614343, 11.6       ],\n",
       "       [ 8.52612498,  8.5       ],\n",
       "       [ 7.21147965,  7.        ],\n",
       "       [ 8.60641863,  9.        ],\n",
       "       [ 8.49791689,  9.        ],\n",
       "       [ 9.15314619,  9.99      ],\n",
       "       [11.11731533, 12.        ],\n",
       "       [ 8.60641863,  9.        ],\n",
       "       [ 8.71133021,  9.59      ],\n",
       "       [10.41137132,  9.3       ],\n",
       "       [ 6.81722641,  5.61      ],\n",
       "       [ 6.53817604,  6.7       ],\n",
       "       [ 7.30814576,  7.4       ],\n",
       "       [ 6.03968736,  5.88      ],\n",
       "       [ 6.4189656 ,  6.7       ],\n",
       "       [ 2.90805404,  2.87      ],\n",
       "       [10.92221698, 10.9       ],\n",
       "       [ 1.35317326,  0.88      ],\n",
       "       [12.02235579, 11.6       ],\n",
       "       [ 7.23043859,  6.14      ],\n",
       "       [13.14974084, 11.85      ],\n",
       "       [ 6.29481475,  7.5       ],\n",
       "       [ 2.21864498,  2.1       ],\n",
       "       [ 0.52871918,  0.59      ],\n",
       "       [ 8.70550732, 13.        ],\n",
       "       [11.37351745, 12.2       ],\n",
       "       [ 8.60314231, 12.        ],\n",
       "       [ 3.91636064,  3.5       ],\n",
       "       [13.14974084, 11.85      ]])"
      ]
     },
     "execution_count": 32,
     "metadata": {},
     "output_type": "execute_result"
    }
   ],
   "source": [
    "np.column_stack((y_test_pred, y_test))"
   ]
  },
  {
   "cell_type": "code",
   "execution_count": 33,
   "metadata": {},
   "outputs": [],
   "source": [
    "from sklearn.metrics import mean_squared_error\n",
    "from sklearn.metrics import r2_score"
   ]
  },
  {
   "cell_type": "code",
   "execution_count": 34,
   "metadata": {},
   "outputs": [],
   "source": [
    "mse_train = mean_squared_error(y_train, y_train_pred) \n",
    "mse_test = mean_squared_error(y_test, y_test_pred)"
   ]
  },
  {
   "cell_type": "code",
   "execution_count": 35,
   "metadata": {},
   "outputs": [
    {
     "name": "stdout",
     "output_type": "stream",
     "text": [
      "Train set MSE is: 0.9546\n",
      "Test set MSE is: 0.8887\n"
     ]
    }
   ],
   "source": [
    "print(\"Train set MSE is: \" + str(round(mse_train, 4)))\n",
    "print(\"Test set MSE is: \" + str(round(mse_test, 4)))"
   ]
  },
  {
   "cell_type": "code",
   "execution_count": 36,
   "metadata": {},
   "outputs": [],
   "source": [
    "r2_train = r2_score(y_train, y_train_pred)\n",
    "r2_test = r2_score(y_test, y_test_pred) "
   ]
  },
  {
   "cell_type": "code",
   "execution_count": 37,
   "metadata": {},
   "outputs": [
    {
     "name": "stdout",
     "output_type": "stream",
     "text": [
      "Train set R^2 is: 0.9203\n",
      "Test set R^2 is: 0.9283\n"
     ]
    }
   ],
   "source": [
    "print(\"Train set R^2 is: \" + str(round(r2_train, 4)))\n",
    "print(\"Test set R^2 is: \" + str(round(r2_test, 4)))"
   ]
  },
  {
   "cell_type": "markdown",
   "metadata": {},
   "source": [
    "#### Intercept and Coefficients"
   ]
  },
  {
   "cell_type": "code",
   "execution_count": 38,
   "metadata": {},
   "outputs": [
    {
     "name": "stdout",
     "output_type": "stream",
     "text": [
      "The Y intercept is: -0.7525074496158339\n"
     ]
    }
   ],
   "source": [
    "print(\"The Y intercept is: \" + str(regr.intercept_))"
   ]
  },
  {
   "cell_type": "code",
   "execution_count": 39,
   "metadata": {},
   "outputs": [
    {
     "name": "stdout",
     "output_type": "stream",
     "text": [
      "The feature coefficients are:\n"
     ]
    },
    {
     "data": {
      "text/plain": [
       "[('tonnage', 0.019027025057444476),\n",
       " ('passengers', -0.1500109930620908),\n",
       " ('length', 0.3787639472921977),\n",
       " ('cabins', 0.7761380147184815)]"
      ]
     },
     "execution_count": 39,
     "metadata": {},
     "output_type": "execute_result"
    }
   ],
   "source": [
    "print(\"The feature coefficients are:\")\n",
    "list(zip(X.columns, regr.coef_))"
   ]
  }
 ],
 "metadata": {
  "kernelspec": {
   "display_name": "Python 3.7.4 64-bit ('base': conda)",
   "language": "python",
   "name": "python37464bitbaseconda7796a16135224153a0c122676ff481d7"
  },
  "language_info": {
   "codemirror_mode": {
    "name": "ipython",
    "version": 3
   },
   "file_extension": ".py",
   "mimetype": "text/x-python",
   "name": "python",
   "nbconvert_exporter": "python",
   "pygments_lexer": "ipython3",
   "version": "3.7.7"
  }
 },
 "nbformat": 4,
 "nbformat_minor": 4
}
